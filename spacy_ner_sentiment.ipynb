{
  "nbformat": 4,
  "nbformat_minor": 0,
  "metadata": {
    "colab": {
      "provenance": []
    },
    "kernelspec": {
      "name": "python3",
      "display_name": "Python 3"
    },
    "language_info": {
      "name": "python"
    }
  },
  "cells": [
    {
      "cell_type": "code",
      "execution_count": 3,
      "metadata": {
        "colab": {
          "base_uri": "https://localhost:8080/"
        },
        "id": "2kb_UXfyARh8",
        "outputId": "308b5241-7e61-4064-8c23-0dfa0029be00"
      },
      "outputs": [
        {
          "output_type": "stream",
          "name": "stdout",
          "text": [
            "\n",
            "Review: I love my new Kindle from Amazon. Battery life is excellent.\n",
            "{'entities': [('Kindle', 'PRODUCT'), ('Amazon', 'BRAND')], 'sentiment': 'positive', 'score': 2}\n",
            "\n",
            "Review: The Echo Dot stopped working after a week — very disappointed.\n",
            "{'entities': [('Echo Dot', 'PRODUCT'), ('a week', 'DATE')], 'sentiment': 'negative', 'score': -1}\n"
          ]
        }
      ],
      "source": [
        "# spacy_ner_sentiment.py\n",
        "import spacy\n",
        "\n",
        "# 1. Load a lightweight model\n",
        "nlp = spacy.load(\"en_core_web_sm\")\n",
        "\n",
        "# 2. Create EntityRuler the modern way\n",
        "ruler = nlp.add_pipe(\"entity_ruler\", before=\"ner\")\n",
        "patterns = [\n",
        "    {\"label\": \"PRODUCT\", \"pattern\": \"Kindle\"},\n",
        "    {\"label\": \"PRODUCT\", \"pattern\": \"Echo Dot\"},\n",
        "    {\"label\": \"BRAND\", \"pattern\": \"Amazon\"},\n",
        "    {\"label\": \"BRAND\", \"pattern\": \"Sony\"},\n",
        "]\n",
        "ruler.add_patterns(patterns)\n",
        "\n",
        "# 3. Define word lists for simple sentiment\n",
        "POSITIVE_WORDS = {\"good\", \"great\", \"excellent\", \"love\", \"loved\", \"perfect\", \"best\", \"awesome\"}\n",
        "NEGATIVE_WORDS = {\"bad\", \"terrible\", \"poor\", \"hate\", \"hated\", \"disappointed\", \"worst\", \"awful\"}\n",
        "\n",
        "\n",
        "def analyze_review(text):\n",
        "    doc = nlp(text)\n",
        "    ents = [(ent.text, ent.label_) for ent in doc.ents]\n",
        "\n",
        "    # Simple rule-based sentiment\n",
        "    tokens = [t.text.lower() for t in doc if not t.is_punct]\n",
        "    score = 0\n",
        "    for t in tokens:\n",
        "        if t in POSITIVE_WORDS:\n",
        "            score += 1\n",
        "        if t in NEGATIVE_WORDS:\n",
        "            score -= 1\n",
        "\n",
        "    sentiment = \"positive\" if score > 0 else \"negative\" if score < 0 else \"neutral\"\n",
        "\n",
        "    return {\"entities\": ents, \"sentiment\": sentiment, \"score\": score}\n",
        "\n",
        "\n",
        "# 4. Demo reviews\n",
        "reviews = [\n",
        "    \"I love my new Kindle from Amazon. Battery life is excellent.\",\n",
        "    \"The Echo Dot stopped working after a week — very disappointed.\",\n",
        "]\n",
        "\n",
        "for r in reviews:\n",
        "    print(\"\\nReview:\", r)\n",
        "    print(analyze_review(r))"
      ]
    }
  ]
}