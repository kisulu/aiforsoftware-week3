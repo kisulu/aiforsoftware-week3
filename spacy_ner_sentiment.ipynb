{
  "nbformat": 4,
  "nbformat_minor": 0,
  "metadata": {
    "colab": {
      "provenance": []
    },
    "kernelspec": {
      "name": "python3",
      "display_name": "Python 3"
    },
    "language_info": {
      "name": "python"
    }
  },
  "cells": [
    {
      "cell_type": "code",
      "execution_count": 1,
      "metadata": {
        "colab": {
          "base_uri": "https://localhost:8080/",
          "height": 106
        },
        "id": "2kb_UXfyARh8",
        "outputId": "4a5d7356-6734-48f6-c026-a9be6b9210bc"
      },
      "outputs": [
        {
          "output_type": "error",
          "ename": "IndentationError",
          "evalue": "expected an indented block after function definition on line 29 (ipython-input-379905915.py, line 30)",
          "traceback": [
            "\u001b[0;36m  File \u001b[0;32m\"/tmp/ipython-input-379905915.py\"\u001b[0;36m, line \u001b[0;32m30\u001b[0m\n\u001b[0;31m    doc = nlp(text)\u001b[0m\n\u001b[0m    ^\u001b[0m\n\u001b[0;31mIndentationError\u001b[0m\u001b[0;31m:\u001b[0m expected an indented block after function definition on line 29\n"
          ]
        }
      ],
      "source": [
        "# spacy_ner_sentiment.py\n",
        "import spacy\n",
        "from spacy.pipeline import EntityRuler\n",
        "\n",
        "\n",
        "# 1. Load a lightweight model (change to 'en_core_web_trf' if available and you want better accuracy)\n",
        "nlp = spacy.load('en_core_web_sm')\n",
        "\n",
        "\n",
        "# 2. Add rule-based patterns to capture product names/brands (EntityRuler)\n",
        "ruler = EntityRuler(nlp, overwrite_ents=True)\n",
        "patterns = [\n",
        "{\"label\": \"PRODUCT\", \"pattern\": \"Kindle\"},\n",
        "{\"label\": \"PRODUCT\", \"pattern\": \"Echo Dot\"},\n",
        "{\"label\": \"BRAND\", \"pattern\": \"Amazon\"},\n",
        "{\"label\": \"BRAND\", \"pattern\": \"Sony\"},\n",
        "]\n",
        "ruler.add_patterns(patterns)\n",
        "nlp.add_pipe(ruler, before='ner')\n",
        "\n",
        "\n",
        "# 3. Example function to extract entities and do rule-based sentiment\n",
        "POSITIVE_WORDS = {\"good\",\"great\",\"excellent\",\"love\",\"loved\",\"perfect\",\"best\",\"awesome\"}\n",
        "NEGATIVE_WORDS = {\"bad\",\"terrible\",\"poor\",\"hate\",\"hated\",\"disappointed\",\"worst\",\"awful\"}\n",
        "\n",
        "\n",
        "\n",
        "\n",
        "def analyze_review(text):\n",
        "doc = nlp(text)\n",
        "ents = [(ent.text, ent.label_) for ent in doc.ents]\n",
        "\n",
        "\n",
        "# Simple rule-based sentiment: token matching\n",
        "tokens = [t.text.lower() for t in doc if not t.is_punct]\n",
        "score = 0\n",
        "for t in tokens:\n",
        "if t in POSITIVE_WORDS:\n",
        "score += 1\n",
        "if t in NEGATIVE_WORDS:\n",
        "score -= 1\n",
        "sentiment = 'positive' if score>0 else 'negative' if score<0 else 'neutral'\n",
        "\n",
        "\n",
        "return {'entities': ents, 'sentiment': sentiment, 'score': score}\n",
        "\n",
        "\n",
        "# 4. Demo\n",
        "reviews = [\n",
        "\"I love my new Kindle from Amazon. Battery life is excellent.\",\n",
        "\"The Echo Dot stopped working after a week — very disappointed.\",\n",
        "]\n",
        "for r in reviews:\n",
        "print(r)\n",
        "print(analyze_review(r))\n",
        "\n",
        "\n",
        "# Notes: Off-the-shelf NER models may not reliably extract product names/brands. Use EntityRuler, or fine-tune a model on labeled data for better recall/precision."
      ]
    }
  ]
}