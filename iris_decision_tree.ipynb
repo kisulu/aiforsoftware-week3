{
  "nbformat": 4,
  "nbformat_minor": 0,
  "metadata": {
    "colab": {
      "provenance": []
    },
    "kernelspec": {
      "name": "python3",
      "display_name": "Python 3"
    },
    "language_info": {
      "name": "python"
    }
  },
  "cells": [
    {
      "cell_type": "code",
      "execution_count": 1,
      "metadata": {
        "colab": {
          "base_uri": "https://localhost:8080/",
          "height": 106
        },
        "id": "2kb_UXfyARh8",
        "outputId": "4a5d7356-6734-48f6-c026-a9be6b9210bc"
      },
      "outputs": [
        {
          "output_type": "error",
          "ename": "IndentationError",
          "evalue": "expected an indented block after function definition on line 29 (ipython-input-379905915.py, line 30)",
          "traceback": [
            "\u001b[0;36m  File \u001b[0;32m\"/tmp/ipython-input-379905915.py\"\u001b[0;36m, line \u001b[0;32m30\u001b[0m\n\u001b[0;31m    doc = nlp(text)\u001b[0m\n\u001b[0m    ^\u001b[0m\n\u001b[0;31mIndentationError\u001b[0m\u001b[0;31m:\u001b[0m expected an indented block after function definition on line 29\n"
          ]
        }
      ],
      "source": [
        "# iris_decision_tree.py\n",
        "# Preprocess Iris data, train DecisionTreeClassifier, evaluate with accuracy/precision/recall\n",
        "\n",
        "\n",
        "from sklearn.datasets import load_iris\n",
        "from sklearn.model_selection import train_test_split\n",
        "from sklearn.tree import DecisionTreeClassifier\n",
        "from sklearn.metrics import accuracy_score, precision_score, recall_score, classification_report\n",
        "from sklearn.impute import SimpleImputer\n",
        "from sklearn.preprocessing import LabelEncoder\n",
        "import numpy as np\n",
        "\n",
        "\n",
        "# 1. Load dataset\n",
        "data = load_iris(as_frame=True)\n",
        "X = data.frame.drop(columns=[data.target_names.min()]) if False else data.data # safe access\n",
        "# use canonical access\n",
        "X = data.data\n",
        "y = data.target\n",
        "\n",
        "\n",
        "# 2. Handle missing values (Iris has none, but we demonstrate)\n",
        "imputer = SimpleImputer(strategy='mean')\n",
        "X_imputed = imputer.fit_transform(X)\n",
        "\n",
        "\n",
        "# 3. Encode labels (already numeric for sklearn's iris)\n",
        "# If textual labels were present: le = LabelEncoder(); y = le.fit_transform(y_text)\n",
        "\n",
        "\n",
        "# 4. Train-test split\n",
        "X_train, X_test, y_train, y_test = train_test_split(X_imputed, y, test_size=0.2, random_state=42, stratify=y)\n",
        "\n",
        "\n",
        "# 5. Train Decision Tree\n",
        "clf = DecisionTreeClassifier(random_state=42)\n",
        "clf.fit(X_train, y_train)\n",
        "\n",
        "\n",
        "# 6. Predict\n",
        "y_pred = clf.predict(X_test)\n",
        "\n",
        "\n",
        "# 7. Evaluate\n",
        "acc = accuracy_score(y_test, y_pred)\n",
        "prec_macro = precision_score(y_test, y_pred, average='macro')\n",
        "recall_macro = recall_score(y_test, y_pred, average='macro')\n",
        "\n",
        "\n",
        "print(f\"Accuracy: {acc:.4f}\")\n",
        "print(f\"Precision (macro): {prec_macro:.4f}\")\n",
        "print(f\"Recall (macro): {recall_macro:.4f}\\n\")\n",
        "print(\"Classification report:\\n\", classification_report(y_test, y_pred, target_names=data.target_names))\n",
        "\n",
        "\n",
        "# Notes: For production you'd persist the pipeline (imputer + model) using joblib or sklearn-pipeline."
      ]
    }
  ]
}